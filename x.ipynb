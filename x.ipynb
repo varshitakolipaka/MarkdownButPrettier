{
 "cells": [
  {
   "cell_type": "code",
   "execution_count": null,
   "source": [
    "import markdown\n",
    "import re\n",
    "from markdown.util import etree\n",
    "from markdown import Extension\n",
    "from markdown.blockprocessors import BlockProcessor"
   ],
   "outputs": [],
   "metadata": {}
  },
  {
   "cell_type": "code",
   "execution_count": null,
   "source": [
    "class BoxBlockProcessor(BlockProcessor):\n",
    "    RE_FENCE_START = r\"{: *([\\s\\S]*?)}([\\s\\S]*?)\"  # start line, e.g., `   !!!! `\n",
    "    RE_FENCE_END = r\"{ *: *}\"  # last non-blank line, e.g, '!!!\\n  \\n\\n'\n",
    "\n",
    "    def test(self, parent, block):\n",
    "        return re.match(self.RE_FENCE_START, block)\n",
    "\n",
    "    def run(self, parent, blocks):\n",
    "        original_block = blocks[0]\n",
    "        blocks[0] = re.sub(self.RE_FENCE_START, \"\", blocks[0])\n",
    "        match = re.match(self.RE_FENCE_START, original_block)\n",
    "        style = match.group(1)\n",
    "        print(style)\n",
    "        content = match.group(0)\n",
    "        print(\">\", content)\n",
    "\n",
    "        # Find block with ending fence\n",
    "        for block_num, block in enumerate(blocks):\n",
    "            if re.search(self.RE_FENCE_END, block):\n",
    "                # remove fence\n",
    "                blocks[block_num] = re.sub(self.RE_FENCE_END, \"\", block)\n",
    "                # render fenced area inside a new div\n",
    "                e = etree.SubElement(parent, \"div\")\n",
    "                e.set(\"style\", style)\n",
    "                self.parser.parseBlocks(e, blocks[0 : block_num + 1])\n",
    "                # remove used blocks\n",
    "                for i in range(0, block_num + 1):\n",
    "                    blocks.pop(0)\n",
    "                return True  # or could have had no return statement\n",
    "        # No closing marker!  Restore and do nothing\n",
    "        blocks[0] = original_block\n",
    "        return False  # equivalent to our test() routine returning False\n",
    "\n",
    "\n",
    "class BoxExtension(Extension):\n",
    "    def extendMarkdown(self, md):\n",
    "        md.parser.blockprocessors.register(BoxBlockProcessor(md.parser), \"box\", 175)"
   ],
   "outputs": [],
   "metadata": {}
  },
  {
   "cell_type": "code",
   "execution_count": null,
   "source": [
    "text = \"\"\"\n",
    "{:\n",
    "\n",
    "\n",
    "\n",
    "\n",
    "\n",
    "\n",
    "\n",
    "\n",
    "\n",
    "\n",
    "kululu\n",
    "shhf\n",
    "asfasf\n",
    "afafafsa\n",
    "asfsga\n",
    "}\n",
    "fwfwfwf\n",
    "{:}\n",
    "\"\"\"\n",
    "\n",
    "md = markdown.Markdown(extensions=[BoxExtension()])\n",
    "html = md.convert(text)\n",
    "\n",
    "print(html)"
   ],
   "outputs": [],
   "metadata": {}
  }
 ],
 "metadata": {
  "orig_nbformat": 4,
  "language_info": {
   "name": "python"
  }
 },
 "nbformat": 4,
 "nbformat_minor": 2
}